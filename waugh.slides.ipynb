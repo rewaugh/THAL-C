{
 "cells": [
  {
   "cell_type": "markdown",
   "metadata": {
    "slideshow": {
     "slide_type": "slide"
    }
   },
   "source": [
    "## Thalamic Segmentation By Unsupervised Clustering\n",
    "\n",
    "Rebecca Waugh\n",
    "May 9, 2019"
   ]
  },
  {
   "cell_type": "markdown",
   "metadata": {
    "slideshow": {
     "slide_type": "slide"
    }
   },
   "source": [
    "# The thalamus in neuroimaging\n",
    "\n",
    "\n",
    "from IPython.display import HTML\n",
    "\n",
    "HTML(\"\"\"\n",
    "<div align=\"middle\">\n",
    "<video width=\"80%\" controls>\n",
    "      <source src=\"./thal.mp4\" type=\"video/mp4\">\n",
    "</video></div>\"\"\")\n",
    "\n"
   ]
  },
  {
   "cell_type": "markdown",
   "metadata": {
    "slideshow": {
     "slide_type": "slide"
    }
   },
   "source": [
    "## Coronal view of first eigenvector of diffusion tensor image:\n",
    "![coronal](coronal1.png)\n"
   ]
  },
  {
   "cell_type": "markdown",
   "metadata": {
    "slideshow": {
     "slide_type": "slide"
    }
   },
   "source": [
    "## Processing workflow\n",
    "![process](process.png)"
   ]
  },
  {
   "cell_type": "code",
   "execution_count": null,
   "metadata": {
    "slideshow": {
     "slide_type": "slide"
    }
   },
   "outputs": [],
   "source": [
    "# Read Data\n",
    "data=[]\n",
    "tmp=pd.read_csv(initFile, header=None, delimiter=' ', index_col=False)\n",
    "# image file formatted as slice by slice matrix so flatten and reshape into vectors\n",
    "tmp2=np.array(tmp.iloc[:,0:256]).flatten().reshape(-1,1)\n",
    "# Standardize\n",
    "tmp3=normalize(tmp2,axis=0)\n",
    "data=pd.DataFrame(tmp3)\n",
    "data.columns = ['meanED'] \n",
    "for prop in props:\n",
    "    print('----> Normalizing %s'%(prop))\n",
    "    dat=[]\n",
    "    propFile='%s.%s.%s.txt'%(subject,hemi,prop)\n",
    "    tmp=pd.read_csv(propFile, header=None, delimiter=' ', index_col=False)\n",
    "    tmp2=np.array(tmp.iloc[:,0:256]).flatten().reshape(-1,1)\n",
    "    tmp3=normalize(tmp2,axis=0)\n",
    "    data[prop]=tmp3"
   ]
  },
  {
   "cell_type": "code",
   "execution_count": null,
   "metadata": {
    "slideshow": {
     "slide_type": "slide"
    }
   },
   "outputs": [],
   "source": [
    "#test for optimal cluster numbers with KMeans\n",
    "Sum_of_squared_distances = []\n",
    "K= range(2,30)\n",
    "for k in K:\n",
    "\tprint('----> Now running for model with %s clusters'%(k))\n",
    "\tmodel=KMeans(n_clusters=int(k), n_jobs=int(jobs), random_state=999)\n",
    "\tmodel.fit(data)\n",
    "\tpkl_filename='%s.%s.%s_clust.pkl'%(subject,hemi,k)\n",
    "\twith open(pkl_filename, 'wb') as file:\n",
    "\t\tpickle.dump(model, file)\n",
    "\tprint('----> Model fitted for %s clusters'%(k))\n",
    "\n",
    "# Splitting the loop and reloading the pkl file is slightly slower but allows for more robust handling of interruptions and debugging\n",
    "for k in K:\n",
    "\tprint('----> Now making predictions for fitted model with %s clusters'%(k))\n",
    "\tpkl_filename='%s.%s.%s_clust.pkl'%(subject,hemi,k)\n",
    "\tmodel=pickle.load( open ( pkl_filename, \"rb\" ) )\n",
    "\ty_predict=model.predict(data)\n",
    "\tpredict_filename='%s.%s.%s.predict.csv'%(subject,hemi,k)\n",
    "\tclustpredict=np.array(y_predict)\n",
    "\tresizePredict=pd.DataFrame(clustpredict.reshape((40960, 256)))\n",
    "# Save the predictions\n",
    "\tresizePredict.to_csv(predict_filename, sep=' ', index=False, header=False)\n",
    "\tprint('----> Predictions complete for model with %s clusters'%(k))\n",
    "\tprint('----> Estimating scores for fitted model with %s clusters'%(k))\n",
    "# Get inertia for k\n",
    "\tSum_of_squared_distances.append(model.inertia_)\n",
    "\n",
    "# Save inertia vector\n",
    "Sum_of_squared_distances=pd.DataFrame(Sum_of_squared_distances)\n",
    "ssDistFile='%s.%s.ssdist.csv'%(subject,hemi)\n",
    "Sum_of_squared_distances.to_csv(ssDistFile, sep=' ', index=False, header=False)\n"
   ]
  },
  {
   "cell_type": "code",
   "execution_count": null,
   "metadata": {
    "slideshow": {
     "slide_type": "subslide"
    }
   },
   "outputs": [],
   "source": [
    "import pandas as pd\n",
    "import numpy as np\n",
    "import os\n",
    "import matplotlib\n",
    "import matplotlib.pyplot as plt\n",
    "plt.ioff()\n",
    "path='./ssdist_data'\n",
    "lh_files = [i for i in os.listdir(path) if os.path.isfile(os.path.join(path,i)) and \\\n",
    "         'lh.ssdist.csv' in i]\n",
    "\n",
    "lh_inertiaData=pd.read_csv('%s/11.lh.ssdist.csv'%(path), delimiter=' ', index_col=False)\n",
    "lh_inertiaData.columns = ['11.lh.ssdist.csv'] \n",
    "for filename in os.listdir(path):\n",
    "    if filename.endswith(\"lh.ssdist.csv\"):\n",
    "        name='%s/%s'%(path,filename)\n",
    "        lh_inertiaData[filename]=pd.read_csv(name, delimiter=' ', index_col=False)\n",
    "\n",
    "assert lh_inertiaData.shape==(27,19), print('error: missing inertia files')\n",
    "\n",
    "x=list(range(2,29))\n",
    "matplotlib.rcParams['figure.figsize'] = (10,10)\n",
    "fig=plt.plot(x,lh_inertiaData)\n",
    "plt.title('Inertia Values for Left Hemisphere Thalamus (n=19)',fontsize=20)\n",
    "plt.xlabel('Number of Clusters', fontsize=18)\n",
    "plt.ylabel('Inertia Value', fontsize=16)\n"
   ]
  },
  {
   "cell_type": "code",
   "execution_count": null,
   "metadata": {
    "scrolled": true,
    "slideshow": {
     "slide_type": "slide"
    }
   },
   "outputs": [],
   "source": [
    "plt.show(fig)"
   ]
  },
  {
   "cell_type": "markdown",
   "metadata": {
    "slideshow": {
     "slide_type": "slide"
    }
   },
   "source": [
    "## Single subject left thalamus with 8 clusters\n",
    "\n",
    "![clust](cluster.singlesub.png)"
   ]
  },
  {
   "cell_type": "markdown",
   "metadata": {
    "slideshow": {
     "slide_type": "slide"
    }
   },
   "source": [
    "## Next Steps\n",
    "\n",
    "- Try warping to group space before clustering\n",
    "- Test with greater number of clusters\n",
    "- Experiment with alternative features...or no features\n",
    "\n",
    "\n",
    "<img src=\"thal15.sag.png\" width=\"200\" height=\"200\" align=\"center\"/>\n"
   ]
  },
  {
   "cell_type": "markdown",
   "metadata": {
    "slideshow": {
     "slide_type": "slide"
    }
   },
   "source": [
    "## Thank you! "
   ]
  }
 ],
 "metadata": {
  "celltoolbar": "Slideshow",
  "kernelspec": {
   "display_name": "Python 3",
   "language": "python",
   "name": "python3"
  },
  "language_info": {
   "codemirror_mode": {
    "name": "ipython",
    "version": 3
   },
   "file_extension": ".py",
   "mimetype": "text/x-python",
   "name": "python",
   "nbconvert_exporter": "python",
   "pygments_lexer": "ipython3",
   "version": "3.7.1"
  }
 },
 "nbformat": 4,
 "nbformat_minor": 2
}
